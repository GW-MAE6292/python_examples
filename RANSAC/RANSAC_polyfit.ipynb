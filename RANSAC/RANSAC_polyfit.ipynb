{
 "cells": [
  {
   "cell_type": "markdown",
   "metadata": {
    "id": "XhATaaotWpYY"
   },
   "source": [
    "# RANSAC\n",
    "\n"
   ]
  },
  {
   "cell_type": "markdown",
   "metadata": {
    "id": "YaFe_Ot-ziRV"
   },
   "source": [
    "## Import Modules"
   ]
  },
  {
   "cell_type": "code",
   "execution_count": null,
   "metadata": {
    "colab": {
     "base_uri": "https://localhost:8080/",
     "height": 334
    },
    "executionInfo": {
     "elapsed": 231,
     "status": "error",
     "timestamp": 1612557788001,
     "user": {
      "displayName": "Taeyoung Lee",
      "photoUrl": "",
      "userId": "07906618747313337531"
     },
     "user_tz": 300
    },
    "id": "XOGSROrK6oGt",
    "outputId": "201bf5ab-4d81-436e-cb82-4c62e1feaf32"
   },
   "outputs": [],
   "source": [
    "import numpy as np\n",
    "import cv2\n",
    "import matplotlib.pyplot as plt\n",
    "import math\n",
    "import scipy.signal\n",
    "import scipy.linalg\n",
    "import mae6292.tools as mae6292\n",
    "import importlib\n",
    "\n",
    "from mae6292.imshow import cv2_imshow"
   ]
  },
  {
   "cell_type": "markdown",
   "metadata": {
    "id": "SEUEyf2dPM-4"
   },
   "source": [
    "## Polynomial Fitting\n",
    "\n",
    "\n",
    "We apply RANSAC to a simple problem.\n",
    "\n",
    "\n",
    "### Generate Data\n",
    "For a given second order polynomial $y=\\rho(x) = a_0x^2 + a_1x+a_2$, we generate 30 data poinst $(x_i,y_i)$, among which 20 are inliners and 10 are outliers, i.e., $w = 2/3$. More specifically, \n",
    "\n",
    "* Inlier: $x_i$ is sampled over the range $[-0.5-a_1/2a_0, 0.5-a_1/2a_0]$, and for each $x_i$, $y_i$ sampled from $\\rho(x_i)$ with an additive noise. \n",
    "* Outlier: $x_i$ is sampled over the same range. Let the maximum noise be $0.1*(y_{\\max}-y_{\\min})$. $y_i$ is sampled over $\\texttt{max\\_noise}[-0.5, 0.5]+y_{\\min}$"
   ]
  },
  {
   "cell_type": "code",
   "execution_count": null,
   "metadata": {},
   "outputs": [],
   "source": [
    "N_inliers = 20\n",
    "N_outliers = 10 \n",
    "a = np.random.rand(3,1)\n",
    "x_true = np.linspace(-0.5-a[1]/2/a[0], 0.5-a[1]/2/a[0], 1001)\n",
    "y_true = np.polyval(a,x_true)\n",
    "\n",
    "# inliers\n",
    "x = np.random.uniform(-0.5-a[1]/2/a[0], 0.5-a[1]/2/a[0], N_inliers)\n",
    "y_range = (np.max(y_true)-np.min(y_true))\n",
    "max_noise = y_range * 0.1\n",
    "y = np.polyval(a,x)+np.random.uniform(-0.5*max_noise, 0.5*max_noise, N_inliers)\n",
    "\n",
    "# outlines\n",
    "x_outliers = np.random.uniform(-0.5-a[1]/2/a[0], 0.5-a[1]/2/a[0], N_outliers)\n",
    "y_outliers = np.random.uniform(-0.1*y_range, 1.1*y_range, N_outliers)+np.min(y_true)\n",
    "\n",
    "plt.figure(dpi=150)\n",
    "plt.plot(x_true,y_true,'b')\n",
    "plt.plot(x,y,'b.')\n",
    "plt.plot(x_outliers,y_outliers,'r.')\n",
    "\n",
    "x_data = np.concatenate((x,x_outliers))\n",
    "y_data = np.concatenate((y,y_outliers))\n",
    "N_data = N_inliers+N_outliers"
   ]
  },
  {
   "cell_type": "markdown",
   "metadata": {},
   "source": [
    "### RANSAC\n",
    "\n",
    "0. Set `N_inliers_max = 0`\n",
    "1.  Randomly select $s=3$ points using [np.random.choice(..., ..., replace=False)](https://numpy.org/doc/stable/reference/random/generated/numpy.random.choice.html) It is important that no points are repeated, as we need three *distinct* points.\n",
    "2.  Fit the 3 points using [np.polyfit()](https://numpy.org/doc/stable/reference/generated/numpy.polyfit.html)\n",
    "3.  Compute the residual using the polynomial for each data point, using [np.polyval()](https://numpy.org/doc/stable/reference/generated/numpy.polyval.html)\n",
    "It is declaired as inliners if the residual is less than $\\texttt{max\\_noise}$. Count `N_inliers`\n",
    "4.  If `N_inliers > N_inliers_max`, save the current polynomial and plot.\n",
    "5.  Repeat the above 1-4."
   ]
  },
  {
   "cell_type": "code",
   "execution_count": null,
   "metadata": {},
   "outputs": [],
   "source": [
    "N_inliers_max = 0\n",
    "N_iter = 1000\n",
    "display_iter = True\n",
    "\n",
    "for i_iter in range(N_iter):\n",
    "\n",
    "    # 1. randomly select s=3 points with \"replace=False\"!!\n",
    "    i_sample = np.random.choice(range(N_data), 3, replace=False)\n",
    "\n",
    "    # 2. fit the selected point \n",
    "    p = np.polyfit(x_data[i_sample],y_data[i_sample], 2)\n",
    "    y_est = np.polyval(p, x_data)\n",
    "\n",
    "    # 3. identify inliers\n",
    "    i_inliers = np.where(abs(y_est-y_data) < max_noise)[0]\n",
    "\n",
    "    # 4. save the best polynomial \n",
    "    if len(i_inliers) > N_inliers_max:\n",
    "        p_best = p\n",
    "        N_inliers_max = len(i_inliers)\n",
    "        print('i_iter=',i_iter,' N_inliers_max=', N_inliers_max)\n",
    "\n",
    "        if display_iter:\n",
    "            plt.figure(dpi=90)\n",
    "            plt.plot(x_data,y_data,'b.')\n",
    "            plt.plot(x_true,y_true,'b')\n",
    "            plt.plot(x_data[i_inliers],y_data[i_inliers],'r.')\n",
    "            plt.plot(x_data[i_sample],y_data[i_sample],'g*')\n",
    "            plt.plot(x_true, np.polyval(p_best, x_true), 'r')\n",
    "            plt.title('i_iter='+str(i_iter)+', N_inliers='+str(N_inliers_max)+f', w={N_inliers_max/N_data:.2f}')\n",
    "            \n",
    "\n",
    "\n",
    "\n"
   ]
  },
  {
   "cell_type": "code",
   "execution_count": null,
   "metadata": {},
   "outputs": [],
   "source": [
    "np.random.choice(range(10), 3)"
   ]
  },
  {
   "cell_type": "code",
   "execution_count": null,
   "metadata": {},
   "outputs": [],
   "source": [
    "np.random.choice(range(10), 3, replace=False)"
   ]
  },
  {
   "cell_type": "code",
   "execution_count": null,
   "metadata": {},
   "outputs": [],
   "source": []
  },
  {
   "cell_type": "code",
   "execution_count": null,
   "metadata": {},
   "outputs": [],
   "source": []
  }
 ],
 "metadata": {
  "colab": {
   "collapsed_sections": [
    "YaFe_Ot-ziRV"
   ],
   "name": "image_filtering.ipynb",
   "provenance": [],
   "toc_visible": true
  },
  "kernelspec": {
   "display_name": "Python 3",
   "language": "python",
   "name": "python3"
  },
  "language_info": {
   "codemirror_mode": {
    "name": "ipython",
    "version": 3
   },
   "file_extension": ".py",
   "mimetype": "text/x-python",
   "name": "python",
   "nbconvert_exporter": "python",
   "pygments_lexer": "ipython3",
   "version": "3.11.7"
  }
 },
 "nbformat": 4,
 "nbformat_minor": 1
}
