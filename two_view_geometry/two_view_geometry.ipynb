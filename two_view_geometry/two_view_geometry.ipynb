{
 "cells": [
  {
   "cell_type": "markdown",
   "metadata": {
    "id": "XhATaaotWpYY"
   },
   "source": [
    "# Two-View Geometry\n",
    "\n"
   ]
  },
  {
   "cell_type": "markdown",
   "metadata": {
    "id": "YaFe_Ot-ziRV"
   },
   "source": [
    "## Import Modules"
   ]
  },
  {
   "cell_type": "code",
   "execution_count": null,
   "metadata": {
    "colab": {
     "base_uri": "https://localhost:8080/",
     "height": 334
    },
    "executionInfo": {
     "elapsed": 231,
     "status": "error",
     "timestamp": 1612557788001,
     "user": {
      "displayName": "Taeyoung Lee",
      "photoUrl": "",
      "userId": "07906618747313337531"
     },
     "user_tz": 300
    },
    "id": "XOGSROrK6oGt",
    "outputId": "201bf5ab-4d81-436e-cb82-4c62e1feaf32"
   },
   "outputs": [],
   "source": [
    "import numpy as np\n",
    "import cv2\n",
    "import matplotlib.pyplot as plt\n",
    "import math\n",
    "import scipy.signal\n",
    "import scipy.linalg\n",
    "import mae6292.tools as mae6292\n",
    "import importlib\n",
    "\n",
    "from mae6292.imshow import cv2_imshow"
   ]
  },
  {
   "cell_type": "markdown",
   "metadata": {
    "id": "SEUEyf2dPM-4"
   },
   "source": [
    "## Load Image and Feature Points\n",
    "\n",
    "We load two images and the matched keypoints. They are visualized as follows.\n"
   ]
  },
  {
   "cell_type": "code",
   "execution_count": null,
   "metadata": {},
   "outputs": [],
   "source": [
    "# load images\n",
    "img1 = cv2.imread('data/0001.jpg')\n",
    "img2 = cv2.imread('data/0002.jpg')\n",
    "\n",
    "# load intrinsic paramters\n",
    "K = np.array([[1379.74, 0, 760.35],[0, 1382.08, 503.41], [0,0,1]])\n",
    "K1 = K\n",
    "K2 = K\n",
    "\n",
    "# load matches keypoints \n",
    "p1 = np.loadtxt('data/matches0001.txt')\n",
    "p2 = np.loadtxt('data/matches0002.txt')\n",
    "n = p1.shape[1]\n",
    "# extend to homogeneous cooridinates\n",
    "p1 = np.concatenate( (p1, np.ones((1,n))), axis=0 )\n",
    "p2 = np.concatenate( (p2, np.ones((1,n))), axis=0 )\n",
    "\n",
    "# visualization\n",
    "fig, axes = plt.subplots(1, 2, dpi=120, figsize=(12,6))\n",
    "axes[0].imshow(cv2.cvtColor(img1, cv2.COLOR_BGR2RGB))\n",
    "axes[0].plot(p1[0,:],p1[1,:],'y.')\n",
    "axes[0].axis('off')\n",
    "\n",
    "axes[1].imshow(cv2.cvtColor(img2, cv2.COLOR_BGR2RGB))\n",
    "axes[1].plot(p2[0,:],p2[1,:],'y.')\n",
    "axes[1].axis('off')"
   ]
  },
  {
   "cell_type": "markdown",
   "metadata": {},
   "source": [
    "## Eight-Point Algorithm\n",
    "\n",
    "1. First, pixel coordinates are normalized by left-multiplying $K^{-1}$\n",
    "\n",
    "2. Each row of $Q$ is given by $(\\bar p_1^i \\otimes \\bar p_2^i)^T$. \n",
    "\n",
    "3. Decompose $Q = US V^T$, and $\\mathrm{vec}(E)$ corresponds to the last column of $V$, which is reshaped into a 3 by 3 matrix $E$"
   ]
  },
  {
   "cell_type": "code",
   "execution_count": null,
   "metadata": {},
   "outputs": [],
   "source": [
    "p_bar_1 = scipy.linalg.inv(K1)@p1\n",
    "p_bar_2 = scipy.linalg.inv(K1)@p2\n",
    "\n",
    "Q = np.zeros((n,9))\n",
    "for i in range(n):\n",
    "    Q[i,:] = np.kron(p_bar_1[:,i], p_bar_2[:,i]).T\n",
    "\n",
    "U, S, VT = scipy.linalg.svd(Q)\n",
    "\n",
    "\n",
    "E = VT[-1,:]\n",
    "E = E.reshape(3,3).T\n",
    "print(\"E=\",E)\n",
    "\n"
   ]
  },
  {
   "cell_type": "markdown",
   "metadata": {},
   "source": [
    "## Triangulation\n",
    "\n",
    "See the notes for Stereo Vison. Let the perspective projection matrix be $M_1 = [I_{3\\times3}|0]$ and $M_2 = [R|T]$. The homogeneous coordinates of the 3D point $P^i$ belongs to the null space of\n",
    "\\begin{align*}\n",
    "null \\begin{bmatrix} \\hat p^i_1 M_1 \\\\ \\hat p^i_2 M_2 \\end{bmatrix}_{6\\times 4}\n",
    "\\end{align*}"
   ]
  },
  {
   "cell_type": "code",
   "execution_count": null,
   "metadata": {},
   "outputs": [],
   "source": [
    "def triangulation(p1, p2, M1, M2):\n",
    "    # Input\n",
    "    # p1, p2: 3 by n pixel homogeneous coordinates\n",
    "    # M1, M2, 3 by 4 perspective projection matrix\n",
    "    # Output\n",
    "    # P: 3 by n (nonhomogeneous) world coordinate\n",
    "    assert(p1.shape[0]==3 and p2.shape[0]==3 and p1.shape[1]==p2.shape[1] )\n",
    "    \n",
    "    n=p1.shape[1]\n",
    "    P = np.zeros((3,n))\n",
    "    for i in range(n):\n",
    "        Q = np.concatenate(( mae6292.hat(p1[:,i])@M1, mae6292.hat(p2[:,i])@M2), axis=0)\n",
    "        U, S, VT = scipy.linalg.svd(Q)\n",
    "        Pi = VT[-1,:]\n",
    "        P[:,i] = Pi[0:3]/Pi[3]\n",
    "    \n",
    "    return P\n"
   ]
  },
  {
   "cell_type": "markdown",
   "metadata": {},
   "source": [
    "Verify the above function with random data. We did not use any special structure of $M_1$ and $M_2$ in the above expression, and they can be generated randomly.\n",
    "\n",
    "Specifically, \n",
    "* $P$, $M_1$, $M_2$ are chosen randomly\n",
    "* The resulting pixel coordinates $p_1$, $p_2$ are obtained by the perspective projection\n",
    "* Perform triangulation with $p_1, p_2, M_1, M_2$ and check if the resulting $P$ is same as the above random values."
   ]
  },
  {
   "cell_type": "code",
   "execution_count": null,
   "metadata": {},
   "outputs": [],
   "source": [
    "n = 10\n",
    "P_test = np.random.rand(4,n)\n",
    "M1_test = np.random.rand(3,4)\n",
    "M2_test = np.random.rand(3,4)\n",
    "p1_test = M1_test@P_test\n",
    "p2_test = M2_test@P_test\n",
    "\n",
    "P_test_new = triangulation( p1_test, p2_test, M1_test, M2_test)\n",
    "\n",
    "print(scipy.linalg.norm(P_test[0:3,:]/P_test[3,:]-P_test_new))"
   ]
  },
  {
   "cell_type": "markdown",
   "metadata": {},
   "source": [
    "## Extract $(R,T)$\n",
    "\n",
    "We first compute four possible pairs of $(R,T)$. Then multiply $R$ by $-1$, if its determinant is negative."
   ]
  },
  {
   "cell_type": "code",
   "execution_count": null,
   "metadata": {},
   "outputs": [],
   "source": [
    "U, S, VT = scipy.linalg.svd(E)\n",
    "\n",
    "R = np.zeros((3,3,4))\n",
    "T = np.zeros((3,4))\n",
    "W = np.array( [[0,1,0], [-1,0,0], [0,0,1]])\n",
    "\n",
    "R[:,:,0], T[:,0] = U@W@VT, U[:,2]\n",
    "R[:,:,1], T[:,1] = U@W@VT, -U[:,2]\n",
    "R[:,:,2], T[:,2] = U@W.T@VT, U[:,2]\n",
    "R[:,:,3], T[:,3] = U@W.T@VT, -U[:,2]\n",
    "\n",
    "for i in range(4):\n",
    "    if scipy.linalg.det(R[:,:,i]) < 0:\n",
    "        R[:,:,i] = -R[:,:,i]\n"
   ]
  },
  {
   "cell_type": "markdown",
   "metadata": {},
   "source": [
    "For each pair of $(R,T)$, we triangulate the 3D location $P$ of the features, and count the number of features with negative depth."
   ]
  },
  {
   "cell_type": "code",
   "execution_count": null,
   "metadata": {},
   "outputs": [],
   "source": [
    "M1 = K1@np.concatenate( (np.identity(3), np.zeros((3,1))), axis=1 )\n",
    "\n",
    "N_negative_depth = np.zeros(4)\n",
    "for i in range(4):\n",
    "    M2 = K2@np.concatenate( (R[:,:,i], T[:,i].reshape(-1,1)), axis=1 )\n",
    "    P = triangulation( p1, p2, M1, M2)\n",
    "    N_negative_depth[i] = len(np.where(P[2,:]<0)[0])\n",
    "    \n",
    "print(N_negative_depth)\n",
    "\n"
   ]
  },
  {
   "cell_type": "markdown",
   "metadata": {},
   "source": [
    "Among the four pairs of $(R,T)$, we choose the pair with the minimum number of negative depth."
   ]
  },
  {
   "cell_type": "code",
   "execution_count": null,
   "metadata": {},
   "outputs": [],
   "source": [
    "i_opt = np.argmin(N_negative_depth)\n",
    "R=R[:,:,i_opt]\n",
    "T=T[:,i_opt].reshape(-1,1)\n"
   ]
  },
  {
   "cell_type": "markdown",
   "metadata": {},
   "source": [
    "Using the selected $(R,T)$, redefine $M_2$ and perform triangulation."
   ]
  },
  {
   "cell_type": "code",
   "execution_count": null,
   "metadata": {},
   "outputs": [],
   "source": [
    "M2 = K2@np.concatenate( (R, T.reshape(-1,1)), axis=1 )\n",
    "P = triangulation( p1, p2, M1, M2)\n",
    "print(T)\n"
   ]
  },
  {
   "cell_type": "markdown",
   "metadata": {},
   "source": [
    "These have been implemented to `mae6292.essentialmatrix2RT` and `mae6292.eightpoint_algorithm`"
   ]
  },
  {
   "cell_type": "code",
   "execution_count": null,
   "metadata": {},
   "outputs": [],
   "source": [
    "importlib.reload(mae6292)\n",
    "\n",
    "R, T = mae6292.essentialmatrix2RT(E, p1, p2, K1, K2)\n",
    "E, R, T = mae6292.eightpoint_algorithm(p1, p2, K1, K2)\n",
    "print(R,T)"
   ]
  },
  {
   "cell_type": "markdown",
   "metadata": {},
   "source": [
    "The triangulated features can be visualized as follows."
   ]
  },
  {
   "cell_type": "code",
   "execution_count": null,
   "metadata": {},
   "outputs": [],
   "source": [
    "%matplotlib widget\n",
    "fig = plt.figure(dpi=150)\n",
    "# ax = fig.gca(projection='3d') # depreciated\n",
    "ax = fig.add_subplot(projection='3d')\n",
    "\n",
    "ax.plot(P[0,:],P[1,:],P[2,:],'b.')\n",
    "ax.axes.set_xlim3d(-3,3)\n",
    "ax.axes.set_ylim3d(-3,3) \n",
    "ax.axes.set_zlim3d(-1,6)\n",
    "ax.set_xlabel('x')\n",
    "ax.set_ylabel('y')\n",
    "ax.set_zlabel('z')\n",
    "\n",
    "ax.view_init(-90,-90) # front view\n",
    "\n",
    "\n",
    "#mae6292.draw_frame(ax, R,T)\n",
    "#mae6292.draw_frame(ax, np.identity(3), np.zeros((3,1)) )\n"
   ]
  },
  {
   "cell_type": "code",
   "execution_count": null,
   "metadata": {},
   "outputs": [],
   "source": []
  }
 ],
 "metadata": {
  "colab": {
   "collapsed_sections": [
    "YaFe_Ot-ziRV"
   ],
   "name": "image_filtering.ipynb",
   "provenance": [],
   "toc_visible": true
  },
  "interpreter": {
   "hash": "b0fa6594d8f4cbf19f97940f81e996739fb7646882a419484c72d19e05852a7e"
  },
  "kernelspec": {
   "display_name": "Python 3.8.3 64-bit ('base': conda)",
   "language": "python",
   "name": "python3"
  },
  "language_info": {
   "codemirror_mode": {
    "name": "ipython",
    "version": 3
   },
   "file_extension": ".py",
   "mimetype": "text/x-python",
   "name": "python",
   "nbconvert_exporter": "python",
   "pygments_lexer": "ipython3",
   "version": "3.11.7"
  }
 },
 "nbformat": 4,
 "nbformat_minor": 1
}
